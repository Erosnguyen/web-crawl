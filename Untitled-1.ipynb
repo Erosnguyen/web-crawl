{
 "cells": [
  {
   "cell_type": "code",
   "execution_count": 2,
   "metadata": {},
   "outputs": [],
   "source": [
    "from os import read\n",
    "from selenium import webdriver\n",
    "from selenium.webdriver.chrome.service import Service\n",
    "from webdriver_manager.chrome import ChromeDriverManager\n",
    "from selenium.webdriver.common.by import By\n",
    "import numpy as np\n",
    "import datetime as dt\n",
    "import pandas as pd\n",
    "import matplotlib as mpl\n",
    "from matplotlib import pyplot as plt\n",
    "import re"
   ]
  },
  {
   "cell_type": "code",
   "execution_count": 6,
   "metadata": {},
   "outputs": [],
   "source": [
    "def read_data_from_csv(ticker):\n",
    "    try:\n",
    "        df = pd.read_csv(\n",
    "            'C:/Users/Admin/Documents/code/python/curlUrl/'+str(ticker)+'.csv')\n",
    "    except:\n",
    "        print('An exception occurred')\n",
    "    else:\n",
    "        return(df)"
   ]
  },
  {
   "cell_type": "code",
   "execution_count": null,
   "metadata": {},
   "outputs": [
    {
     "name": "stdout",
     "output_type": "stream",
     "text": [
      "249,172 2.38 17/04/2019\n"
     ]
    }
   ],
   "source": [
    "s = \"Nguyễn Đức Huy Vũ 249,172 2.38 17/04/2019\"\n",
    "for i in range(len(s)):\n",
    "    if (s[i].isnumeric()): \n",
    "        # print(s[:i])\n",
    "        ss = s[i:]\n",
    "        print(ss)\n",
    "        break"
   ]
  },
  {
   "cell_type": "code",
   "execution_count": null,
   "metadata": {},
   "outputs": [
    {
     "data": {
      "text/plain": [
       "['249,172', '2.38', '17/04/2019']"
      ]
     },
     "execution_count": 14,
     "metadata": {},
     "output_type": "execute_result"
    }
   ],
   "source": [
    "ss.split(\" \")"
   ]
  },
  {
   "cell_type": "code",
   "execution_count": null,
   "metadata": {},
   "outputs": [],
   "source": [
    "companys = read_data_from_csv('dataCK')\n",
    "for company in range(len(companys)):\n",
    "    url = f\"https://s.cafef.vn/hose/{companys.iloc[company][0]}/co-dong-lon.chn\"\n",
    "    if(url):\n",
    "        driver = webdriver.Chrome(ChromeDriverManager().install())\n",
    "        driver.get(url)\n",
    "        try:\n",
    "            codong = driver.find_element(\n",
    "                By.XPATH, \".//div[@id='divViewCoDongLon']\").text\n",
    "            for i in range(len(codong.strip())):\n",
    "                if (codong[i].isnumeric()):\n",
    "                    ss = codong[i:]\n",
    "                    break\n",
    "            data = ss.splitlines(keepends=True)\n",
    "            del data[0:2]\n",
    "            with open('data10.txt', 'a', encoding=\"utf-8\") as data10:\n",
    "                data10.write(companys.iloc[company][0]+\"\\n\")\n",
    "                data10.write(data+\"\\n\")\n",
    "                data10.write(\n",
    "                    \"______________________________________________________________________\"+\"\\n\")\n",
    "                data10.write(\"\\n\")\n",
    "        except:\n",
    "            continue\n",
    "    else:\n",
    "        continue"
   ]
  },
  {
   "cell_type": "code",
   "execution_count": 4,
   "metadata": {},
   "outputs": [],
   "source": [
    "f = open('data13.txt', encoding='utf-8')\n",
    "\n",
    "repl=re.sub('MÃ CK\tTÊN CÔNG TY\tGIÁ\tSÀN',' ',f.read(),re.MULTILINE)\n",
    "with open('data13.txt', 'a',encoding='utf-8') as f2:\n",
    "    f2.write(repl)"
   ]
  }
 ],
 "metadata": {
  "kernelspec": {
   "display_name": "Python 3.10.5 64-bit (windows store)",
   "language": "python",
   "name": "python3"
  },
  "language_info": {
   "codemirror_mode": {
    "name": "ipython",
    "version": 3
   },
   "file_extension": ".py",
   "mimetype": "text/x-python",
   "name": "python",
   "nbconvert_exporter": "python",
   "pygments_lexer": "ipython3",
   "version": "3.10.5"
  },
  "orig_nbformat": 4,
  "vscode": {
   "interpreter": {
    "hash": "58dbfdb34cf82127b32c5737e6183911655ff227e5c11e8f5e4b25048ae98ef2"
   }
  }
 },
 "nbformat": 4,
 "nbformat_minor": 2
}
